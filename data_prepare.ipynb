{
 "cells": [
  {
   "cell_type": "code",
   "execution_count": 1,
   "metadata": {},
   "outputs": [],
   "source": [
    "import pandas as pd\n",
    "from collections import defaultdict\n",
    "import random\n",
    "import pickle\n",
    "from datetime import datetime, timedelta\n",
    "\n",
    "import json\n",
    "import os\n",
    "import sys\n",
    "import lightgbm as lgb\n",
    "import matplotlib.pyplot as plt\n",
    "import numpy as np\n",
    "import time\n",
    "from sklearn.model_selection import train_test_split\n",
    "from sklearn.metrics import (roc_auc_score, roc_curve,\n",
    "                             auc, log_loss, f1_score, accuracy_score,\n",
    "                             recall_score, precision_score, classification_report)\n",
    "import warnings\n",
    "import argparse\n",
    "\n"
   ]
  },
  {
   "cell_type": "code",
   "execution_count": 2,
   "metadata": {},
   "outputs": [],
   "source": [
    "df = pd.read_pickle('0301_data_unencode.pkl')\n",
    "df.drop(columns=['ds', 'oaid', 'ici','day','title','max_similarity','label'],inplace = True,axis=1)"
   ]
  },
  {
   "cell_type": "code",
   "execution_count": 3,
   "metadata": {},
   "outputs": [],
   "source": [
    "# # print(df.columns)\n",
    "cols = [col for col in df.columns if col not in ['category', 'feature','scenario','audience','brand','b_c','c_s','a_c','c_f','b_c_s','a_b_c','b_c_f','a_c_s','c_f_s','a_c_f','a_c_b_s','b_c_f_s','a_c_f_s','a_b_c_f_s']] +['category', 'feature','scenario','audience','brand','b_c','c_s','a_c','c_f','b_c_s','a_b_c','b_c_f','a_c_s','c_f_s','a_c_f','a_c_b_s','b_c_f_s','a_c_f_s','a_b_c_f_s']\n",
    "df = df[cols]"
   ]
  },
  {
   "cell_type": "code",
   "execution_count": 4,
   "metadata": {},
   "outputs": [],
   "source": [
    "cat_col = ['category', 'feature','scenario','audience','brand','b_c','c_s','a_c','c_f','b_c_s','a_b_c','b_c_f','a_c_s','c_f_s','a_c_f','a_c_b_s','b_c_f_s','a_c_f_s','a_b_c_f_s']\n",
    "feature_size = [1]*df.shape[1]\n",
    "# 假设 df 是你的 DataFrame\n",
    "for i in range(len(cat_col)):\n",
    "    feature_size[i+130] = (df[cat_col[i]].nunique())\n",
    "\n",
    "result = pd.DataFrame(feature_size, columns=['Feature_Size'])\n",
    "result.to_pickle('feature_size.pkl')"
   ]
  },
  {
   "cell_type": "code",
   "execution_count": null,
   "metadata": {},
   "outputs": [],
   "source": []
  },
  {
   "cell_type": "code",
   "execution_count": null,
   "metadata": {},
   "outputs": [],
   "source": []
  }
 ],
 "metadata": {
  "kernelspec": {
   "display_name": "yzq_test",
   "language": "python",
   "name": "python3"
  },
  "language_info": {
   "codemirror_mode": {
    "name": "ipython",
    "version": 3
   },
   "file_extension": ".py",
   "mimetype": "text/x-python",
   "name": "python",
   "nbconvert_exporter": "python",
   "pygments_lexer": "ipython3",
   "version": "3.9.20"
  }
 },
 "nbformat": 4,
 "nbformat_minor": 2
}
